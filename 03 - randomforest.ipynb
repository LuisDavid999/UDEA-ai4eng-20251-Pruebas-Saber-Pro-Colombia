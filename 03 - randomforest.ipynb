{
  "nbformat": 4,
  "nbformat_minor": 0,
  "metadata": {
    "colab": {
      "provenance": [],
      "authorship_tag": "ABX9TyOSCggi5abGjwNV8Tn/MzOt",
      "include_colab_link": true
    },
    "kernelspec": {
      "name": "python3",
      "display_name": "Python 3"
    },
    "language_info": {
      "name": "python"
    }
  },
  "cells": [
    {
      "cell_type": "markdown",
      "metadata": {
        "id": "view-in-github",
        "colab_type": "text"
      },
      "source": [
        "<a href=\"https://colab.research.google.com/github/LuisDavid999/UDEA-ai4eng-20251-Pruebas-Saber-Pro-Colombia/blob/main/03_randomforest.ipynb\" target=\"_parent\"><img src=\"https://colab.research.google.com/assets/colab-badge.svg\" alt=\"Open In Colab\"/></a>"
      ]
    },
    {
      "cell_type": "code",
      "source": [
        "\n",
        "import pandas as pd\n",
        "import numpy as np\n",
        "from sklearn.model_selection import train_test_split\n",
        "import warnings\n",
        "warnings.filterwarnings(\"ignore\", category=UserWarning, module=\"xgboost.core\")\n",
        "import matplotlib.pyplot as plt\n",
        "from sklearn.ensemble import RandomForestClassifier\n",
        "from sklearn.model_selection import GridSearchCV"
      ],
      "metadata": {
        "id": "eXd7glti4jp-"
      },
      "execution_count": 1,
      "outputs": []
    },
    {
      "cell_type": "code",
      "execution_count": 2,
      "metadata": {
        "colab": {
          "base_uri": "https://localhost:8080/"
        },
        "id": "9d7kS-K30h0D",
        "outputId": "f6958611-6576-4c17-e68e-e2f10632249e"
      },
      "outputs": [
        {
          "output_type": "execute_result",
          "data": {
            "text/plain": [
              "((692500, 59), (296786, 59))"
            ]
          },
          "metadata": {},
          "execution_count": 2
        }
      ],
      "source": [
        "train = pd.read_csv('train01.csv')\n",
        "test = pd.read_csv('test01.csv')\n",
        "train.shape, test.shape"
      ]
    },
    {
      "cell_type": "code",
      "source": [
        "X = train.drop('RENDIMIENTO_GLOBAL', axis = 1)\n",
        "y = train['RENDIMIENTO_GLOBAL'].values\n",
        "X_test = test.drop(['ID'],axis=1)"
      ],
      "metadata": {
        "id": "JrF2KfKw29Td"
      },
      "execution_count": 3,
      "outputs": []
    },
    {
      "cell_type": "markdown",
      "source": [
        "## **Particionar los datos**\n"
      ],
      "metadata": {
        "id": "Qm50N-Oj3CDH"
      }
    },
    {
      "cell_type": "code",
      "source": [
        "test_size = 0.3\n",
        "\n",
        "Xtr, Xts, ytr, yts = train_test_split(X, y, test_size=test_size)\n",
        "print (Xtr.shape, Xts.shape)"
      ],
      "metadata": {
        "colab": {
          "base_uri": "https://localhost:8080/"
        },
        "id": "qMyRyQX12_r_",
        "outputId": "8f1fbcff-1835-4e88-cd1b-63ac11d29553"
      },
      "execution_count": 4,
      "outputs": [
        {
          "output_type": "stream",
          "name": "stdout",
          "text": [
            "(484750, 58) (207750, 58)\n"
          ]
        }
      ]
    },
    {
      "cell_type": "code",
      "metadata": {
        "colab": {
          "base_uri": "https://localhost:8080/"
        },
        "id": "c87040ad",
        "outputId": "7730ca4f-0a12-43a0-85bb-6059aed45b4b"
      },
      "source": [
        "# Define the parameter grid for Random Forest\n",
        "param_grid_rf = {\n",
        "    'n_estimators': [50, 100],  # Reduced number of trees\n",
        "    'max_depth': [10, 20],  # Reduced number of max depths\n",
        "    'min_samples_split': [5, 10],  # Reduced number of min samples split\n",
        "    'min_samples_leaf': [2, 4]  # Reduced number of min samples leaf\n",
        "}\n",
        "\n",
        "# Create a Random Forest Classifier estimator\n",
        "rf_estimator = RandomForestClassifier(random_state=42) # Added random_state for reproducibility\n",
        "\n",
        "# Perform Grid Search with Cross-Validation for Random Forest\n",
        "grid_search_rf = GridSearchCV(estimator=rf_estimator, param_grid=param_grid_rf, cv=3, scoring='accuracy', n_jobs=-1)\n",
        "grid_search_rf.fit(Xtr, ytr)\n",
        "\n",
        "# Get the best estimator for Random Forest\n",
        "best_rf_estimator = grid_search_rf.best_estimator_\n",
        "\n",
        "print(\"Best parameters found for Random Forest: \", grid_search_rf.best_params_)\n",
        "print(\"Best accuracy found for Random Forest: \", grid_search_rf.best_score_)"
      ],
      "execution_count": 7,
      "outputs": [
        {
          "output_type": "stream",
          "name": "stdout",
          "text": [
            "Best parameters found for Random Forest:  {'max_depth': 20, 'min_samples_leaf': 2, 'min_samples_split': 10, 'n_estimators': 100}\n",
            "Best accuracy found for Random Forest:  0.4094027845058461\n"
          ]
        }
      ]
    },
    {
      "cell_type": "code",
      "metadata": {
        "colab": {
          "base_uri": "https://localhost:8080/"
        },
        "id": "407222a2",
        "outputId": "f27bd290-aa18-4725-f765-337410feaff8"
      },
      "source": [
        "from sklearn.metrics import accuracy_score, classification_report\n",
        "\n",
        "# Make predictions on the test set using the best Random Forest estimator\n",
        "y_pred_rf = best_rf_estimator.predict(Xts)\n",
        "\n",
        "# Evaluate the Random Forest model\n",
        "accuracy_rf = accuracy_score(yts, y_pred_rf)\n",
        "print(f\"Accuracy of the best Random Forest model on the test set: {accuracy_rf}\")\n",
        "\n",
        "# Print a classification report for more detailed evaluation\n",
        "print(\"Classification Report for the best Random Forest model:\")\n",
        "print(classification_report(yts, y_pred_rf))"
      ],
      "execution_count": 8,
      "outputs": [
        {
          "output_type": "stream",
          "name": "stdout",
          "text": [
            "Accuracy of the best Random Forest model on the test set: 0.41115764139590855\n",
            "Classification Report for the best Random Forest model:\n",
            "              precision    recall  f1-score   support\n",
            "\n",
            "           0       0.42      0.55      0.48     51839\n",
            "           1       0.33      0.26      0.29     52022\n",
            "           2       0.31      0.21      0.25     51546\n",
            "           3       0.51      0.61      0.56     52343\n",
            "\n",
            "    accuracy                           0.41    207750\n",
            "   macro avg       0.39      0.41      0.40    207750\n",
            "weighted avg       0.39      0.41      0.40    207750\n",
            "\n"
          ]
        }
      ]
    }
  ]
}
